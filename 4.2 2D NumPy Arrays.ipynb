{
 "cells": [
  {
   "cell_type": "markdown",
   "id": "f4773be0",
   "metadata": {},
   "source": [
    "## 2D NumPy Arrays\n",
    "You can create a 2D numpy array from a regular Python list of lists. Let's try to create one numpy array for all height and weight data of your family, like this. If you print out np_2d now, you'll see that it is a rectangular data structure: Each sublist in the list, corresponds to a row in the two dimensional numpy array."
   ]
  },
  {
   "cell_type": "markdown",
   "id": "15be20c3",
   "metadata": {},
   "source": [
    "### Your First 2D NumPy Array\n",
    "Before working on the actual MLB data, let's try to create a 2D numpy array from a small list of lists.\n",
    "\n",
    "In this exercise, baseball is a list of lists. The main list contains 4 elements. Each of these elements is a list containing the height and the weight of 4 baseball players, in this order. baseball is already coded for you in the script."
   ]
  },
  {
   "cell_type": "code",
   "execution_count": 1,
   "id": "7bccf7ae",
   "metadata": {},
   "outputs": [
    {
     "name": "stdout",
     "output_type": "stream",
     "text": [
      "<class 'numpy.ndarray'>\n",
      "(4, 2)\n"
     ]
    }
   ],
   "source": [
    "# Create baseball, a list of lists\n",
    "baseball = [[180, 78.4],\n",
    "            [215, 102.7],\n",
    "            [210, 98.5],\n",
    "            [188, 75.2]]\n",
    "\n",
    "# Import numpy\n",
    "import numpy as np\n",
    "\n",
    "# Create a 2D numpy array from baseball: np_baseball\n",
    "np_baseball = np.array(baseball)\n",
    "\n",
    "# Print out the type of np_baseball\n",
    "print(type(np_baseball))\n",
    "\n",
    "# Print out the shape of np_baseball\n",
    "print(np_baseball.shape)"
   ]
  },
  {
   "cell_type": "markdown",
   "id": "7550fac9",
   "metadata": {},
   "source": [
    "### Baseball data in 2D form\n",
    "You have another look at the MLB data and realize that it makes more sense to restructure all this information in a 2D numpy array. This array should have 1015 rows, corresponding to the 1015 baseball players you have information on, and 2 columns (for height and weight).\n",
    "\n",
    "The MLB was, again, very helpful and passed you the data in a different structure, a Python list of lists. In this list of lists, each sublist represents the height and weight of a single baseball player. The name of this embedded list is baseball.\n",
    "\n",
    "Can you store the data as a 2D array to unlock numpy's extra functionality?"
   ]
  },
  {
   "cell_type": "code",
   "execution_count": 2,
   "id": "2508b8d1",
   "metadata": {},
   "outputs": [
    {
     "name": "stdout",
     "output_type": "stream",
     "text": [
      "(4, 2)\n"
     ]
    }
   ],
   "source": [
    "# baseball is available as a regular list of lists\n",
    "\n",
    "# Import numpy package\n",
    "import numpy as np\n",
    "\n",
    "# Create a 2D numpy array from baseball: np_baseball\n",
    "np_baseball = np.array(baseball)\n",
    "\n",
    "# Print out the shape of np_baseball\n",
    "print(np_baseball.shape)"
   ]
  },
  {
   "cell_type": "markdown",
   "id": "79c3fa0c",
   "metadata": {},
   "source": [
    "## Subsetting 2D NumPy Arrays\n",
    "If your 2D numpy array has a regular structure, i.e. each row and column has a fixed number of values, complicated ways of subsetting become very easy. Have a look at the code below where the elements \"a\" and \"c\" are extracted from a list of lists.\n",
    "\n",
    "### regular list of lists\n",
    "x = [[\"a\", \"b\"], [\"c\", \"d\"]]\n",
    "\n",
    "[x[0][0], x[1][0]]\n",
    "\n",
    "### numpy\n",
    "import numpy as np\n",
    "\n",
    "np_x = np.array(x)\n",
    "\n",
    "np_x[:, 0]\n",
    "\n",
    "For regular Python lists, this is a real pain. For 2D numpy arrays, however, it's pretty intuitive! The indexes before the comma refer to the rows, while those after the comma refer to the columns. The : is for slicing; in this example, it tells Python to include all rows.\n",
    "\n",
    "The code that converts the pre-loaded baseball list to a 2D numpy array is already in the script. The first column contains the players' height in inches and the second column holds player weight, in pounds. Add some lines to make the correct selections. Remember that in Python, the first element is at index 0!"
   ]
  },
  {
   "cell_type": "code",
   "execution_count": 7,
   "id": "1f139cb0",
   "metadata": {},
   "outputs": [
    {
     "name": "stdout",
     "output_type": "stream",
     "text": [
      "[188.   75.2]\n",
      "210.0\n"
     ]
    }
   ],
   "source": [
    "# baseball is available as a regular list of lists\n",
    "\n",
    "# Import numpy package\n",
    "import numpy as np\n",
    "\n",
    "# Create np_baseball (2 cols)\n",
    "np_baseball = np.array(baseball)\n",
    "\n",
    "# Print out the 4th row of np_baseball\n",
    "print(np_baseball[3,:])\n",
    "\n",
    "# Select the entire second column of np_baseball: np_weight_lb\n",
    "np_weight_lb = np_baseball[:,1]\n",
    "\n",
    "# Print out height of 3th player\n",
    "print(np_baseball[2,0])"
   ]
  },
  {
   "cell_type": "markdown",
   "id": "12925ba1",
   "metadata": {},
   "source": [
    "## 2D Arithmetic\n",
    "Remember how you calculated the Body Mass Index for all baseball players? numpy was able to perform all calculations element-wise (i.e. element by element). For 2D numpy arrays this isn't any different! You can combine matrices with single numbers, with vectors, and with other matrices.\n",
    "\n",
    "Execute the code below in the IPython shell and see if you understand:\n",
    "\n",
    "import numpy as np\n",
    "\n",
    "np_mat = np.array([[1, 2],\n",
    "\n",
    "                   [3, 4],\n",
    "                   \n",
    "                   [5, 6]])\n",
    "                   \n",
    "np_mat * 2\n",
    "\n",
    "np_mat + np.array([10, 10])\n",
    "\n",
    "np_mat + np_mat\n",
    "\n",
    "np_baseball is coded for you; it's again a 2D numpy array with 3 columns representing height (in inches), weight (in pounds) and age (in years)."
   ]
  },
  {
   "cell_type": "code",
   "execution_count": 16,
   "id": "737f777e",
   "metadata": {},
   "outputs": [
    {
     "name": "stdout",
     "output_type": "stream",
     "text": [
      "a + b = \n",
      " [[ 6  8]\n",
      " [10 12]]\n",
      "a - b = \n",
      " [[-4 -4]\n",
      " [-4 -4]]\n",
      "a * b = \n",
      " [[ 5 12]\n",
      " [21 32]]\n",
      "a / b = \n",
      " [[0.2        0.33333333]\n",
      " [0.42857143 0.5       ]]\n"
     ]
    }
   ],
   "source": [
    "import numpy as np\n",
    "\n",
    "# Define two 2D numpy arrays\n",
    "a = np.array([[1, 2], [3, 4]])\n",
    "b = np.array([[5, 6], [7, 8]])\n",
    "\n",
    "# Add the two arrays\n",
    "c = a + b\n",
    "\n",
    "# Subtract the two arrays\n",
    "d = a - b\n",
    "\n",
    "# Multiply the two arrays element-wise\n",
    "e = a * b\n",
    "\n",
    "# Divide the two arrays element-wise\n",
    "f = a / b\n",
    "\n",
    "print(\"a + b = \\n\", c)\n",
    "print(\"a - b = \\n\", d)\n",
    "print(\"a * b = \\n\", e)\n",
    "print(\"a / b = \\n\", f)"
   ]
  },
  {
   "cell_type": "code",
   "execution_count": 17,
   "id": "5490d76a",
   "metadata": {},
   "outputs": [
    {
     "name": "stdout",
     "output_type": "stream",
     "text": [
      "[[360.  156.8]\n",
      " [430.  205.4]\n",
      " [420.  197. ]\n",
      " [376.  150.4]]\n",
      "[[  4.572       1.99136  ]\n",
      " [ 97.52228    46.5838984]\n",
      " [210.         98.5      ]\n",
      " [  0.          0.       ]]\n"
     ]
    }
   ],
   "source": [
    "# Example list of lists\n",
    "baseball = [[180, 78.4], [215, 102.7], [210, 98.5], [188, 75.2]]\n",
    "\n",
    "# Define updated as a numpy array\n",
    "updated = np.array(baseball)\n",
    "\n",
    "# Import numpy package\n",
    "import numpy as np\n",
    "\n",
    "# Create np_baseball (3 cols)\n",
    "np_baseball = np.array(baseball)\n",
    "\n",
    "# Print out addition of np_baseball and updated\n",
    "print(np_baseball + updated)\n",
    "\n",
    "# Create numpy array: conversion\n",
    "conversion = np.array([0.0254, 0.453592, 1, 0]).reshape(4,1)\n",
    "\n",
    "# Print out product of np_baseball and conversion\n",
    "print(np_baseball*conversion)"
   ]
  },
  {
   "cell_type": "code",
   "execution_count": null,
   "id": "c05503c1",
   "metadata": {},
   "outputs": [],
   "source": []
  }
 ],
 "metadata": {
  "kernelspec": {
   "display_name": "Python 3 (ipykernel)",
   "language": "python",
   "name": "python3"
  },
  "language_info": {
   "codemirror_mode": {
    "name": "ipython",
    "version": 3
   },
   "file_extension": ".py",
   "mimetype": "text/x-python",
   "name": "python",
   "nbconvert_exporter": "python",
   "pygments_lexer": "ipython3",
   "version": "3.9.13"
  }
 },
 "nbformat": 4,
 "nbformat_minor": 5
}
