{
 "cells": [
  {
   "cell_type": "markdown",
   "id": "797f610e",
   "metadata": {},
   "source": [
    "## Python\n",
    "Python was conceived by Guido Van Rossum. Here, you can see a photo of me with Guido. What started as a hobby project, soon became a general purpose programming language: nowadays, you can use Python to build practically any piece of software. But how did this happen? Well, first of all, Python is open source. It's free to use. Second, it's very easy to build packages in Python, which is code that you can share with other people to solve specific problems."
   ]
  },
  {
   "cell_type": "markdown",
   "id": "b6524f89",
   "metadata": {},
   "source": [
    "### Get coding and don't forget to have fun!\n",
    "\n",
    "In the Python script, you can type Python code to solve the exercises."
   ]
  },
  {
   "cell_type": "code",
   "execution_count": 1,
   "id": "73154fc7",
   "metadata": {},
   "outputs": [
    {
     "name": "stdout",
     "output_type": "stream",
     "text": [
      "0.625\n",
      "17\n"
     ]
    }
   ],
   "source": [
    "# Example, do not modify!\n",
    "print(5 / 8)\n",
    "\n",
    "# Print the sum of 7 and 10\n",
    "print(7+10)"
   ]
  },
  {
   "cell_type": "markdown",
   "id": "6d29fe51",
   "metadata": {},
   "source": [
    "## When to use Python?\n",
    "Python is a pretty versatile language. For which applications can you use Python?"
   ]
  },
  {
   "cell_type": "markdown",
   "id": "2de0915d",
   "metadata": {},
   "source": [
    "\n",
    "i. You want to do some quick calculations.\n",
    "\n",
    "ii. For your new business, you want to develop a database-driven website.\n",
    "\n",
    "iii. Your boss asks you to clean and analyze the results of the latest satisfaction survey."
   ]
  },
  {
   "cell_type": "markdown",
   "id": "22a2e643",
   "metadata": {},
   "source": [
    "To add comments to your Python script, you can use the # tag. These comments are not run as Python code, so they will not influence your result. As an example, take the comment in the editor, # Division; it is completely ignored during execution."
   ]
  },
  {
   "cell_type": "code",
   "execution_count": 2,
   "id": "066add38",
   "metadata": {},
   "outputs": [
    {
     "name": "stdout",
     "output_type": "stream",
     "text": [
      "0.625\n",
      "17\n"
     ]
    }
   ],
   "source": [
    "# Division\n",
    "print(5 / 8)\n",
    "\n",
    "#Addition\n",
    "print(7 + 10)"
   ]
  },
  {
   "cell_type": "markdown",
   "id": "dc28cef0",
   "metadata": {},
   "source": [
    "## Python as a calculator\n",
    "Python is perfectly suited to do basic calculations. Apart from addition, subtraction, multiplication and division, there is also support for more advanced operations such as:"
   ]
  },
  {
   "cell_type": "markdown",
   "id": "7f1ccee5",
   "metadata": {},
   "source": [
    "Exponentiation: **. This operator raises the number to its left to the power of the number to its right. For example 4**2 is 4 to the power of 2 and will give 16.\n",
    "Modulo: %. This operator returns the remainder of the division of the number to the left by the number on its right. For example 18 % 7 equals 4 because 7 fits into 18 twice, leaving you with a remainder of 4."
   ]
  },
  {
   "cell_type": "code",
   "execution_count": 3,
   "id": "59fd004a",
   "metadata": {},
   "outputs": [
    {
     "name": "stdout",
     "output_type": "stream",
     "text": [
      "10\n",
      "0\n",
      "15\n",
      "5.0\n",
      "4\n",
      "16\n",
      "32\n"
     ]
    }
   ],
   "source": [
    "# Addition, subtraction\n",
    "print(5 + 5)\n",
    "print(5 - 5)\n",
    "\n",
    "# Multiplication, division, modulo, and exponentiation\n",
    "print(3 * 5)\n",
    "print(10 / 2)\n",
    "print(18 % 7)\n",
    "print(4 ** 2)\n",
    "\n",
    "# Calculate two to the power of five\n",
    "print(2**5)"
   ]
  },
  {
   "cell_type": "code",
   "execution_count": null,
   "id": "ff516e0b",
   "metadata": {},
   "outputs": [],
   "source": []
  }
 ],
 "metadata": {
  "kernelspec": {
   "display_name": "Python 3 (ipykernel)",
   "language": "python",
   "name": "python3"
  },
  "language_info": {
   "codemirror_mode": {
    "name": "ipython",
    "version": 3
   },
   "file_extension": ".py",
   "mimetype": "text/x-python",
   "name": "python",
   "nbconvert_exporter": "python",
   "pygments_lexer": "ipython3",
   "version": "3.9.13"
  }
 },
 "nbformat": 4,
 "nbformat_minor": 5
}
