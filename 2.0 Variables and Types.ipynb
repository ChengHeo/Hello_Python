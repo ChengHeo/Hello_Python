{
 "cells": [
  {
   "cell_type": "markdown",
   "id": "98a53fa9",
   "metadata": {},
   "source": [
    "## 1. Variables and Types\n",
    "It's clear that Python is a great calculator. If you want to do more complex calculations though, you will want to \"save\" values while you're coding along."
   ]
  },
  {
   "cell_type": "markdown",
   "id": "03ee7037",
   "metadata": {},
   "source": [
    "In Python, a variable allows you to refer to a value with a name. To create a variable use =, like this example:\n",
    "\n",
    "x = 5\n",
    "You can now use the name of this variable, x, instead of the actual value, 5.\n",
    "\n",
    "Remember, = in Python means assignment, it doesn't test equality!"
   ]
  },
  {
   "cell_type": "code",
   "execution_count": 1,
   "id": "cd11c94a",
   "metadata": {},
   "outputs": [
    {
     "name": "stdout",
     "output_type": "stream",
     "text": [
      "100\n"
     ]
    }
   ],
   "source": [
    "# Create a variable savings\n",
    "savings=100\n",
    "\n",
    "# Print out savings\n",
    "print(savings)"
   ]
  },
  {
   "cell_type": "markdown",
   "id": "93e354bc",
   "metadata": {},
   "source": [
    "### Calculations with variables\n",
    "The formula to calculate how much money you have after 7 years of investing $100 each year with 10% return would look something like this:\n",
    "\n",
    "100 * 1.1 ** 7\n",
    "This is known as compound interest.\n",
    "\n",
    "Instead of calculating with the actual values, you can use variables instead. The savings variable you've created in the previous exercise represents the $100 you started with. It's up to you to create a new variable to represent 1.1 and then redo the calculations!"
   ]
  },
  {
   "cell_type": "code",
   "execution_count": 2,
   "id": "081b6a27",
   "metadata": {},
   "outputs": [
    {
     "name": "stdout",
     "output_type": "stream",
     "text": [
      "194.87171000000012\n"
     ]
    }
   ],
   "source": [
    "# Create a variable savings\n",
    "savings = 100\n",
    "\n",
    "# Create a variable growth_multiplier\n",
    "growth_multiplier=1.1\n",
    "years=7\n",
    "# Calculate result\n",
    "result=savings*(growth_multiplier**years)\n",
    "\n",
    "# Print out result\n",
    "print(result)"
   ]
  },
  {
   "cell_type": "markdown",
   "id": "c634fe5d",
   "metadata": {},
   "source": [
    "### Other variable types\n",
    "In the previous exercise, you worked with two Python data types:\n",
    "\n",
    "int, or integer: a number without a fractional part. savings, with the value 100, is an example of an integer.\n",
    "float, or floating point: a number that has both an integer and fractional part, separated by a point. growth_multiplier, with the value 1.1, is an example of a float.\n",
    "Next to numerical data types, there are two other very common data types:\n",
    "\n",
    "str, or string: a type to represent text. You can use single or double quotes to build a string.\n",
    "bool, or boolean: a type to represent logical values. Can only be True or False (the capitalization is important!)."
   ]
  },
  {
   "cell_type": "code",
   "execution_count": 3,
   "id": "20b0644b",
   "metadata": {},
   "outputs": [],
   "source": [
    "# Create a variable desc\n",
    "desc = \"compound interest\"\n",
    "\n",
    "# Create a variable profitable\n",
    "profitable = True"
   ]
  },
  {
   "cell_type": "markdown",
   "id": "5859774a",
   "metadata": {},
   "source": [
    "### Guess the type\n",
    "To find out the type of a value or a variable that refers to that value, you can use the type() function. Suppose you've defined a variable a, but you forgot the type of this variable. To determine the type of a, simply execute:\n",
    "\n",
    "type(a)\n",
    "We already went ahead and created three variables: a, b and c. You can use the IPython shell to discover their type. Which of the following options is correct?"
   ]
  },
  {
   "cell_type": "markdown",
   "id": "b7dfc6be",
   "metadata": {},
   "source": [
    "answer: a is of type float, b is of type str, c is of type bool"
   ]
  },
  {
   "cell_type": "markdown",
   "id": "a75fbd76",
   "metadata": {},
   "source": [
    "### Operations with other types\n",
    "Hugo mentioned that different types behave differently in Python.\n",
    "\n",
    "When you sum two strings, for example, you'll get different behavior than when you sum two integers or two booleans.\n",
    "\n",
    "In the script some variables with different types have already been created. It's up to you to use them."
   ]
  },
  {
   "cell_type": "code",
   "execution_count": 4,
   "id": "1a7a253d",
   "metadata": {},
   "outputs": [
    {
     "name": "stdout",
     "output_type": "stream",
     "text": [
      "<class 'float'>\n",
      "compound interestcompound interest\n"
     ]
    }
   ],
   "source": [
    "savings = 100\n",
    "growth_multiplier = 1.1\n",
    "desc = \"compound interest\"\n",
    "\n",
    "# Assign product of savings and growth_multiplier to year1\n",
    "year1 = savings * growth_multiplier\n",
    "\n",
    "# Print the type of year1\n",
    "print(type(year1))\n",
    "\n",
    "# Assign sum of desc and desc to doubledesc\n",
    "doubledesc = desc + desc\n",
    "\n",
    "\n",
    "# Print out doubledesc\n",
    "print(doubledesc)"
   ]
  },
  {
   "cell_type": "markdown",
   "id": "a5de7506",
   "metadata": {},
   "source": [
    "### Type conversion\n",
    "Using the + operator to paste together two strings can be very useful in building custom messages.\n",
    "\n",
    "Suppose, for example, that you've calculated the return of your investment and want to summarize the results in a string.\n",
    "\n",
    "To do this, you'll need to explicitly convert the types of your variables so that they are all strings. More specifically, you'll need str(), to convert a value into a string. str(savings), for example, will convert the integer savings to a string.\n",
    "\n",
    "Similar functions such as int(), float() and bool() will help you convert Python values into any type."
   ]
  },
  {
   "cell_type": "code",
   "execution_count": 5,
   "id": "a445474d",
   "metadata": {},
   "outputs": [
    {
     "name": "stdout",
     "output_type": "stream",
     "text": [
      "I started with $100 and now have $194.87171000000012. Awesome!\n"
     ]
    }
   ],
   "source": [
    "# Definition of savings and result\n",
    "savings = 100\n",
    "result = 100 * 1.10 ** 7\n",
    "\n",
    "# Fix the printout\n",
    "print(\"I started with $\" + str(savings) + \" and now have $\" + str(result) + \". Awesome!\")\n",
    "\n",
    "# Definition of pi_string\n",
    "pi_string = \"3.1415926\"\n",
    "\n",
    "# Convert pi_string into float: pi_float\n",
    "pi_float = float(pi_string)"
   ]
  },
  {
   "cell_type": "markdown",
   "id": "13861fd1",
   "metadata": {},
   "source": [
    "### Can Python handle everything?\n",
    "Now that you know something more about combining different sources of information, have a look at the four Python expressions below. Which one of these will throw an error? You can always copy and paste this code in the IPython Shell to find out!"
   ]
  },
  {
   "cell_type": "markdown",
   "id": "2047b6d2",
   "metadata": {},
   "source": [
    "Answer: \"The correct answer to this multiple choice exercise is answer number \" + 2"
   ]
  },
  {
   "cell_type": "code",
   "execution_count": null,
   "id": "88eda45c",
   "metadata": {},
   "outputs": [],
   "source": []
  }
 ],
 "metadata": {
  "kernelspec": {
   "display_name": "Python 3 (ipykernel)",
   "language": "python",
   "name": "python3"
  },
  "language_info": {
   "codemirror_mode": {
    "name": "ipython",
    "version": 3
   },
   "file_extension": ".py",
   "mimetype": "text/x-python",
   "name": "python",
   "nbconvert_exporter": "python",
   "pygments_lexer": "ipython3",
   "version": "3.9.13"
  }
 },
 "nbformat": 4,
 "nbformat_minor": 5
}
